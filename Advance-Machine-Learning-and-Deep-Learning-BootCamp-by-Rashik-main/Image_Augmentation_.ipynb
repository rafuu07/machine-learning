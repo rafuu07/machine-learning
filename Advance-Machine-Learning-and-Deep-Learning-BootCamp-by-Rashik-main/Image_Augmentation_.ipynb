{
  "nbformat": 4,
  "nbformat_minor": 0,
  "metadata": {
    "colab": {
      "provenance": []
    },
    "kernelspec": {
      "name": "python3",
      "display_name": "Python 3"
    },
    "language_info": {
      "name": "python"
    },
    "accelerator": "GPU"
  },
  "cells": [
    {
      "cell_type": "code",
      "source": [
        "from google.colab import drive\n",
        "drive.mount('/content/drive')"
      ],
      "metadata": {
        "colab": {
          "base_uri": "https://localhost:8080/"
        },
        "id": "ngazbmRQwAca",
        "outputId": "9159c8ee-859f-4c5c-a2d5-b01e0a6c25ad"
      },
      "execution_count": null,
      "outputs": [
        {
          "output_type": "stream",
          "name": "stdout",
          "text": [
            "Mounted at /content/drive\n"
          ]
        }
      ]
    },
    {
      "cell_type": "code",
      "source": [
        "from tensorflow.keras.utils import img_to_array, array_to_img, load_img"
      ],
      "metadata": {
        "id": "eUtvnrDmwoRv"
      },
      "execution_count": null,
      "outputs": []
    },
    {
      "cell_type": "code",
      "metadata": {
        "id": "TwgELGcOvjNh"
      },
      "source": [
        "from keras.preprocessing.image import ImageDataGenerator\n",
        "\n",
        "datagen = ImageDataGenerator(\n",
        "        rotation_range=40,\n",
        "        width_shift_range=0.2,\n",
        "        height_shift_range=0.2,\n",
        "        shear_range=0.2,\n",
        "        zoom_range=0.2,\n",
        "        horizontal_flip=True,\n",
        "        fill_mode='nearest')\n",
        "\n",
        "img = load_img('/content/drive/MyDrive/Dog/Dataset/Periodontal/20.jpg')  # this is a PIL image\n",
        "x = img_to_array(img)  # this is a Numpy array with shape (3, 150, 150)\n",
        "x = x.reshape((1,) + x.shape)  # this is a Numpy array with shape (1, 3, 150, 150)\n",
        "\n",
        "# the .flow() command below generates batches of randomly transformed images\n",
        "# and saves the results to the `preview/` directory\n",
        "i = 0\n",
        "for batch in datagen.flow(x, batch_size=1,\n",
        "                          save_to_dir='/content/drive/MyDrive/Dog/Dataset/Augmented', save_prefix='Periodontal', save_format='jpeg'):\n",
        "    i += 1\n",
        "    if i > 10:\n",
        "        break  # otherwise the generator would loop indefinitely"
      ],
      "execution_count": null,
      "outputs": []
    },
    {
      "cell_type": "markdown",
      "source": [
        "**Image Counting**\n",
        "\n",
        "---\n",
        "\n"
      ],
      "metadata": {
        "id": "2JX-1WZSZDIK"
      }
    },
    {
      "cell_type": "code",
      "source": [
        "import glob\n",
        "import os\n",
        "import shutil\n",
        "from pathlib import Path\n",
        "import tensorflow as tf"
      ],
      "metadata": {
        "id": "nwk7NqDJZOlR"
      },
      "execution_count": null,
      "outputs": []
    },
    {
      "cell_type": "code",
      "source": [
        "#counting the train data of each class\n",
        "print(\"Train\")\n",
        "for i in os.listdir(\"/content/drive/MyDrive/Dog/train\"):\n",
        "  try:\n",
        "    c = len(os.listdir(os.path.join(\"/content/drive/MyDrive/Dog/train\",i)))\n",
        "    print(i+\": \"+str(c))\n",
        "  except:\n",
        "    pass"
      ],
      "metadata": {
        "colab": {
          "base_uri": "https://localhost:8080/"
        },
        "id": "SOWHl_wOZOfq",
        "outputId": "cdec110c-d510-4d5b-f3da-297847457ed1"
      },
      "execution_count": null,
      "outputs": [
        {
          "output_type": "stream",
          "name": "stdout",
          "text": [
            "Train\n",
            "Yeast Infection: 152\n",
            "Suborrhea: 154\n",
            "Ringworm: 150\n",
            "Periodontal: 151\n"
          ]
        }
      ]
    },
    {
      "cell_type": "code",
      "source": [
        "print(\"Test\")\n",
        "for i in os.listdir(\"/content/drive/MyDrive/Dog/test\"):\n",
        "  try:\n",
        "    c = len(os.listdir(os.path.join(\"/content/drive/MyDrive/Dog/test\",i)))\n",
        "    print(i+\": \"+str(c))\n",
        "  except:\n",
        "    pass"
      ],
      "metadata": {
        "colab": {
          "base_uri": "https://localhost:8080/"
        },
        "id": "Em2teHyMcIAi",
        "outputId": "ab3843e5-dd6c-4d30-fc85-90d12e051ce7"
      },
      "execution_count": null,
      "outputs": [
        {
          "output_type": "stream",
          "name": "stdout",
          "text": [
            "Test\n",
            "Yeast Infection: 44\n",
            "Periodontal: 44\n",
            "Ringworm: 43\n",
            "Suborrhea: 44\n"
          ]
        }
      ]
    },
    {
      "cell_type": "code",
      "source": [
        "print(\"Validation\")\n",
        "for i in os.listdir(\"/content/drive/MyDrive/Dog/validation\"):\n",
        "  try:\n",
        "    c = len(os.listdir(os.path.join(\"/content/drive/MyDrive/Dog/validation\",i)))\n",
        "    print(i+\": \"+str(c))\n",
        "  except:\n",
        "    pass"
      ],
      "metadata": {
        "colab": {
          "base_uri": "https://localhost:8080/"
        },
        "id": "37sYgYslcJ-a",
        "outputId": "e250b825-f3c6-4896-c0c1-958296b08bde"
      },
      "execution_count": null,
      "outputs": [
        {
          "output_type": "stream",
          "name": "stdout",
          "text": [
            "Validation\n",
            "Ringworm: 22\n",
            "Yeast Infection: 22\n",
            "Suborrhea: 22\n",
            "Periodontal: 22\n"
          ]
        }
      ]
    },
    {
      "cell_type": "code",
      "source": [
        "BATCH_SIZE = 32\n",
        "IMAGE_SIZE = 50\n",
        "CHANNELS=1\n",
        "dataset=tf.keras.preprocessing.image_dataset_from_directory('/content/drive/MyDrive/Dog/Dataset',\n",
        "    shuffle=True,\n",
        "    image_size=(IMAGE_SIZE,IMAGE_SIZE),\n",
        "    batch_size=BATCH_SIZE\n",
        ")"
      ],
      "metadata": {
        "id": "9TsiiWrVZOXx"
      },
      "execution_count": null,
      "outputs": []
    }
  ]
}